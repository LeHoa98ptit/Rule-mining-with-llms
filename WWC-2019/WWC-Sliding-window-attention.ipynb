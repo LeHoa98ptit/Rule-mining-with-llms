{
 "cells": [
  {
   "cell_type": "markdown",
   "id": "8a22e154-d460-4dd5-aa4d-e3143af34430",
   "metadata": {},
   "source": [
    "## Import required libraries"
   ]
  },
  {
   "cell_type": "code",
   "execution_count": null,
   "id": "d0fe4050-5191-49e8-a57e-bb9c56e242b0",
   "metadata": {},
   "outputs": [],
   "source": [
    "import json\n",
    "import networkx as nx\n",
    "import openai\n",
    "from groq import Groq\n",
    "from neo4j import GraphDatabase\n",
    "import json\n",
    "import json\n",
    "import networkx as nx\n",
    "import time"
   ]
  },
  {
   "cell_type": "markdown",
   "id": "bd0a6424-1ce3-41d5-a513-aa87286def5f",
   "metadata": {},
   "source": [
    "## Connection to Neo4j"
   ]
  },
  {
   "cell_type": "code",
   "execution_count": null,
   "id": "a7ad7fac-598e-43eb-a1fe-ac007e7aa0ec",
   "metadata": {},
   "outputs": [],
   "source": [
    "# Neo4j connection details\n",
    "uri = \"bolt://localhost:7687\"  \n",
    "user = \"neo4j\"                 \n",
    "password = \"123456789\"          \n",
    "\n",
    "# Initialize the Neo4j driver\n",
    "driver = GraphDatabase.driver(uri, auth=(user, password))\n",
    "\n",
    "# Function to run a query and return the results\n",
    "def run_query(query):\n",
    "    with driver.session() as session:\n",
    "        result = session.run(query)\n",
    "        return [record.data() for record in result]"
   ]
  },
  {
   "cell_type": "markdown",
   "id": "8ed82d07-0e75-425f-bab9-6b7f21853cbc",
   "metadata": {},
   "source": [
    "## Get all data from neo4j"
   ]
  },
  {
   "cell_type": "code",
   "execution_count": null,
   "id": "36a51fc7-4460-466e-8b4b-a0931fe2acbe",
   "metadata": {},
   "outputs": [],
   "source": [
    "# Get all nodes\n",
    "def get_all_nodes(tx):\n",
    "    query = \"\"\"\n",
    "    MATCH (n)\n",
    "    RETURN labels(n) AS labels, n\n",
    "    \"\"\"\n",
    "    result = tx.run(query)\n",
    "    nodes = []\n",
    "    for record in result:\n",
    "        labels = record[\"labels\"]\n",
    "        node = record[\"n\"]\n",
    "        nodes.append({\n",
    "            \"labels\": labels,\n",
    "            \"properties\": dict(node)\n",
    "        })\n",
    "    return nodes\n",
    "\n",
    "# Perform query\n",
    "with driver.session() as session:\n",
    "    all_nodes = session.read_transaction(get_all_nodes)\n",
    "\n",
    "# Close connection driver\n",
    "driver.close()\n",
    "\n",
    "# Result\n",
    "for node in all_nodes:\n",
    "    print(f\"Labels: {node['labels']}, Properties: {node['properties']}\")"
   ]
  },
  {
   "cell_type": "markdown",
   "id": "005f7e85-a32b-431c-9f5b-39a255fe67c5",
   "metadata": {},
   "source": [
    "## Encoding graph"
   ]
  },
  {
   "cell_type": "code",
   "execution_count": null,
   "id": "eea41e0b-27a2-4e71-90af-19277c0d67d2",
   "metadata": {},
   "outputs": [],
   "source": [
    "def encode_data(data):\n",
    "    encoded_str = \"\"\n",
    "    for idx, node in enumerate(data):\n",
    "        labels_str = ', '.join(node['labels'])\n",
    "        properties_str = ', '.join([f\"{key}: {value}\" for key, value in node['properties'].items()])\n",
    "        encoded_str += f\"Node {idx} has labels [{labels_str}] and ({properties_str}), \"\n",
    "    return encoded_str[:-2]  # Loại bỏ dấu phẩy cuối cùng\n",
    "\n",
    "# Encode data and print results\n",
    "encoded_all_data = encode_data(all_nodes)\n",
    "print(encoded_all_data)"
   ]
  },
  {
   "cell_type": "code",
   "execution_count": null,
   "id": "b3f34216-173d-47c0-b12d-03bb6fb02487",
   "metadata": {},
   "outputs": [],
   "source": [
    "len(encoded_data)"
   ]
  },
  {
   "cell_type": "markdown",
   "id": "de10cd37-1a51-4ac5-a050-93fade536de7",
   "metadata": {},
   "source": [
    "### Get relationships and properties"
   ]
  },
  {
   "cell_type": "code",
   "execution_count": null,
   "id": "ad8a2dc7-4b2f-4d3a-95d7-b4e952753429",
   "metadata": {},
   "outputs": [],
   "source": [
    "def get_nodes_and_relationships(tx):\n",
    "    query = (\n",
    "        \"MATCH (a)-[r]->(b) \"\n",
    "        \"RETURN DISTINCT labels(a) AS StartLabels, type(r) AS RelationshipType, labels(b) AS EndLabels, properties(r) AS RelationshipProperties \"\n",
    "        \"ORDER BY StartLabels, RelationshipType, EndLabels\"\n",
    "    )\n",
    "    result = tx.run(query)\n",
    "    nodes_and_relationships = []\n",
    "    for record in result:\n",
    "        nodes_and_relationships.append({\n",
    "            \"StartLabels\": record[\"StartLabels\"],\n",
    "            \"RelationshipType\": record[\"RelationshipType\"],\n",
    "            \"EndLabels\": record[\"EndLabels\"],\n",
    "            \"RelationshipProperties\": dict(record[\"RelationshipProperties\"])  # Convert properties to dictionary\n",
    "        })\n",
    "    return nodes_and_relationships\n",
    "\n",
    "\n",
    "with driver.session() as session:\n",
    "    nodes_and_relationships = session.read_transaction(get_nodes_and_relationships)\n",
    "\n",
    "# Close connection to driver\n",
    "driver.close()"
   ]
  },
  {
   "cell_type": "markdown",
   "id": "744faca9-a2bb-41a6-94de-a2e1f9e2b535",
   "metadata": {},
   "source": [
    "### Encoding relationships"
   ]
  },
  {
   "cell_type": "code",
   "execution_count": null,
   "id": "3ebf18ea-c485-4522-9350-e13474ed518e",
   "metadata": {},
   "outputs": [],
   "source": [
    "def encode_relationship(relationship):\n",
    "    start_labels = ', '.join(relationship['StartLabels'])\n",
    "    end_labels = ', '.join(relationship['EndLabels'])\n",
    "    relationship_type = relationship['RelationshipType']\n",
    "    properties = relationship['RelationshipProperties']\n",
    "\n",
    "    properties_str = ', '.join([f\"{key}: {value}\" for key, value in properties.items()]) if properties else \"No properties\"\n",
    "\n",
    "    return f\"Node [{start_labels}] connect to node  [{end_labels}] with Relationship Type {relationship_type} and Properties {{{properties_str}}}\"\n",
    "\n",
    "encoded_relationship =  \"\"\n",
    "# In ra mỗi mối quan hệ đã được encode\n",
    "for relationship in nodes_and_relationships:\n",
    "    encoded_relationship += encode_relationship(relationship) + \". \"\n"
   ]
  },
  {
   "cell_type": "code",
   "execution_count": null,
   "id": "6a793dbc-33f2-4f04-ac1a-fe84f1248275",
   "metadata": {},
   "outputs": [],
   "source": [
    "encoded_relationship"
   ]
  },
  {
   "cell_type": "markdown",
   "id": "fe1bc42d-013d-4727-ac69-03e241c610b8",
   "metadata": {},
   "source": [
    "### Read data"
   ]
  },
  {
   "cell_type": "code",
   "execution_count": null,
   "id": "9950a9e6-bf9c-4eda-ab90-3e98ad11b58b",
   "metadata": {},
   "outputs": [],
   "source": [
    "import json\n",
    "\n",
    "# data path \n",
    "file_path = 'data_wc.json'\n",
    "\n",
    "# reading Json file\n",
    "with open(file_path, 'r', encoding='utf-8-sig') as file:\n",
    "    try:\n",
    "        data = json.load(file)\n",
    "        for item in data:\n",
    "            pass\n",
    "    except json.JSONDecodeError as e:\n",
    "        print(f\"Error decoding JSON: {e}\")\n"
   ]
  },
  {
   "cell_type": "code",
   "execution_count": null,
   "id": "09d685ed-fc87-4b89-b9f0-556975f82095",
   "metadata": {},
   "outputs": [],
   "source": [
    "for item in data: \n",
    "    print(item)"
   ]
  },
  {
   "cell_type": "markdown",
   "id": "fb93fd90-4e16-40d8-b3c2-0994877d64ee",
   "metadata": {},
   "source": [
    "### Encoding node"
   ]
  },
  {
   "cell_type": "code",
   "execution_count": null,
   "id": "1f119307-970d-4d90-b94c-456c6e756d3c",
   "metadata": {},
   "outputs": [],
   "source": [
    "# Create a graph using NetworkX for nodes only\n",
    "graph = nx.Graph()\n",
    "\n",
    "# Adding nodes into graph\n",
    "for item in data:\n",
    "    node_id = item['n']['properties']['id']\n",
    "    node_labels = item['n']['labels']\n",
    "    node_properties = item['n']['properties']\n",
    "    graph.add_node(node_id, labels=node_labels, **node_properties)\n",
    "\n",
    "# Encoding nodes function with identity\n",
    "def encode_nodes(graph):\n",
    "    node_descriptions = []\n",
    "    for node, props in graph.nodes(data=True):\n",
    "        labels = props.pop('labels', [])\n",
    "        labels_str = ', '.join(labels)\n",
    "        prop_desc = ', '.join([f\"{key}: {value}\" for key, value in props.items()])\n",
    "        node_desc = f\"Node {node} with label {labels_str} has properties ({prop_desc})\"\n",
    "        node_descriptions.append(node_desc)\n",
    "    return node_descriptions\n",
    "\n",
    "# Encode the nodes\n",
    "encoded_nodes = encode_nodes(graph)\n",
    "\n",
    "# Format the output\n",
    "if encoded_nodes:\n",
    "    encoded_graph_str = '; '.join(encoded_nodes)\n",
    "    output = f\"Encoded graph:\\n {encoded_graph_str}.\"\n",
    "else:\n",
    "    output = \"No nodes found in the graph.\""
   ]
  },
  {
   "cell_type": "code",
   "execution_count": null,
   "id": "f7d6c681-4147-401f-8aca-a55eddcfe27e",
   "metadata": {},
   "outputs": [],
   "source": [
    "encoded_data = output +  \"\\nIn this graph: \\n\" + encoded_relationship \n",
    "encoded_data"
   ]
  },
  {
   "cell_type": "markdown",
   "id": "1ef7c7eb-43e1-4ce6-ba12-5f74c3a2ea98",
   "metadata": {},
   "source": [
    "## Rule Generation"
   ]
  },
  {
   "cell_type": "code",
   "execution_count": null,
   "id": "b4374b55-09f5-4b5b-8cbc-d28e9ba6308d",
   "metadata": {},
   "outputs": [],
   "source": [
    "client = Groq(\n",
    "    api_key=\"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\",\n",
    ")"
   ]
  },
  {
   "cell_type": "code",
   "execution_count": null,
   "id": "0a66da43-92f4-4960-8f6c-07be6f50baa9",
   "metadata": {},
   "outputs": [],
   "source": [
    "def generator(encoded_graph, query, model, size):\n",
    "    # Function to divide the text into smaller chunks\n",
    "    def chunk_text(text, max_length):\n",
    "        words = text.split()\n",
    "        chunks = []\n",
    "        current_chunk = []\n",
    "        current_length = 0\n",
    "\n",
    "        for word in words:\n",
    "            if current_length + len(word) + 1 > max_length:\n",
    "                chunks.append(' '.join(current_chunk))\n",
    "                current_chunk = []\n",
    "                current_length = 0\n",
    "            current_chunk.append(word)\n",
    "            current_length += len(word) + 1\n",
    "\n",
    "        if current_chunk:\n",
    "            chunks.append(' '.join(current_chunk))\n",
    "\n",
    "        return chunks\n",
    "\n",
    "    # Function to process each chunk\n",
    "    def process_chunk(chunk):\n",
    "        chat_completion = client.chat.completions.create(\n",
    "            messages=[\n",
    "                {\n",
    "                    \"role\": \"user\",\n",
    "                    \"content\": chunk,\n",
    "                }\n",
    "            ],\n",
    "            model= model,\n",
    "        )\n",
    "\n",
    "        return chat_completion.choices[0].message.content\n",
    "\n",
    "    # Split encoded_graph into chunks\n",
    "    max_chunk_length = size  # Adjust this length based on your needs and model limits\n",
    "    graph_chunks = chunk_text(encoded_graph, max_chunk_length)\n",
    "\n",
    "    # Process each chunk of encoded_graph\n",
    "    processed_graph_parts = [process_chunk(chunk) for chunk in graph_chunks]\n",
    "\n",
    "    # Combine processed parts back into a single string\n",
    "    processed_graph = ' '.join(processed_graph_parts)\n",
    "\n",
    "    # Append query to the processed graph and process the final combined context\n",
    "    context = processed_graph + \"\\n\" + query\n",
    "    final_result = process_chunk(context)\n",
    "\n",
    "    return final_result"
   ]
  },
  {
   "cell_type": "markdown",
   "id": "f221d94d-5e24-4f25-b6e9-cc7fb67ed1a5",
   "metadata": {},
   "source": [
    "### Simple Prompt"
   ]
  },
  {
   "cell_type": "code",
   "execution_count": 2,
   "id": "3be23167-c2d2-4998-b3fd-e3d409b45578",
   "metadata": {},
   "outputs": [],
   "source": [
    "prompt = \"\"\"\n",
    "Based on the following graph properties, generate detailed consistency rules (graph functional dependency and graph entity dependency).\n",
    "Consider the structure, node information and relationships in the graph, and provide a set of rules that can be applied to maintain consistent \n",
    "and accurate data.\n",
    "\n",
    "For each consistency rule you identify, provide a clear description of the rule and generated the corresponding Cypher query to check the \n",
    "number of nodes or relationships that satisfy the rule.\n",
    "Your query should return the count of entities (nodes or relationships) that match the rule described. \n",
    "Provide the query in the format of valid Cypher syntax, simple and ready for execution in a Neo4j databaseBelow is the input data:\n",
    "Graph Information:\n",
    "\n",
    "- Nodes: Tournament, Team, Squad, Person, Match.\n",
    "- Relationships: PLAYED_IN, NAMED, PARTICIPATED_IN, FOR, REPRESENTS, IN_SQUAD, SCORED_GOAL, COACH_FOR, IN_TOURNAMENT,\n",
    "- Node properties: Tournament.name, Tournament.id, Tournament.shortName, Tournament.year, Team.name, Team.id, Squad.id, Person.id, Person.name, Person.dobm Match.id, Match.stage, Match.date\n",
    "\n",
    "\"\"\""
   ]
  },
  {
   "cell_type": "markdown",
   "id": "306f61e9-0c81-42eb-a478-7d5b8a256916",
   "metadata": {},
   "source": [
    "### LLAMA"
   ]
  },
  {
   "cell_type": "code",
   "execution_count": null,
   "id": "57947ff2-4ef4-4ae3-bc2c-2b6dcc444268",
   "metadata": {},
   "outputs": [],
   "source": [
    "start = time.time()\n",
    "rules_llama = generator(encoded_data, prompt, \"llama3-70b-8192\", 8000, 500)\n",
    "end = time.time()\n",
    "execution_time = end-start\n",
    "# print\n",
    "print(f\"Time taken: {execution_time:.2f} seconds\")"
   ]
  },
  {
   "cell_type": "code",
   "execution_count": null,
   "id": "b0e1ef9b-5287-4258-a97b-93818342c4d5",
   "metadata": {},
   "outputs": [],
   "source": [
    "print(rules_llama)"
   ]
  },
  {
   "cell_type": "markdown",
   "id": "ed44d195-dfaf-48ad-9d11-210c18e74a09",
   "metadata": {},
   "source": [
    "### Mixtral"
   ]
  },
  {
   "cell_type": "code",
   "execution_count": null,
   "id": "1c4a2e59-b772-40c7-959e-c75b3ec0dcdf",
   "metadata": {},
   "outputs": [],
   "source": [
    "time_st_zero_mixtral = time.time()\n",
    "rules_mixtral = generator(encoded_data, prompt, \"mixtral-8x7b-32768\", 8000, 500)\n",
    "time_ed_zero_mixtral = time.time()\n",
    "execution_time = time_ed_zero_mixtral - time_st_zero_mixtral\n",
    "print(f\"Execution time: {execution_time:.2f}\")"
   ]
  },
  {
   "cell_type": "code",
   "execution_count": null,
   "id": "1e5a8580-767d-4f01-b60e-cbfc974d4b1c",
   "metadata": {},
   "outputs": [],
   "source": [
    "print(rules_mixtral)"
   ]
  },
  {
   "cell_type": "markdown",
   "id": "ca9ad08f-7a8b-450e-9413-42d9e06b6edb",
   "metadata": {},
   "source": [
    "### Few shot prompting"
   ]
  },
  {
   "cell_type": "code",
   "execution_count": null,
   "id": "18537ba8-bea6-420e-b916-94b8daf19210",
   "metadata": {},
   "outputs": [],
   "source": [
    "few_shot_prompt = \"\"\"\n",
    "    Examples of consistency Rules:\n",
    "    \n",
    "    1. Unique Person ID: Each Person node should have a unique id.\n",
    "    2. Person Node Properties: Each Person node should have a name and dob.\n",
    "    3. Ensure that no two matches have the same date, stage, and tournament. This helps avoid duplicate matches within the same tournament.\n",
    "    \n",
    "    Task: Generate new rules to ensure consistency and accuracy in the graph database, considering all node types and relationships. \n",
    "\n",
    "    For each consistency rule you identify, provide a clear description of the rule and generated the corresponding Cypher query to check the \n",
    "    number of nodes or relationships that satisfy the rule.\n",
    "    Your query should return the count of entities (nodes or relationships) that match the rule described. \n",
    "    Provide the query in the format of valid Cypher syntax, simple and ready for execution in a Neo4j databaseBelow is the input data:\n",
    "    Graph Information:\n",
    "\n",
    "    - Nodes: Tournament, Team, Squad, Person, Match.\n",
    "    - Relationships: PLAYED_IN, NAMED, PARTICIPATED_IN, FOR, REPRESENTS, IN_SQUAD, SCORED_GOAL, COACH_FOR, IN_TOURNAMENT,\n",
    "    - Node properties: Tournament.name, Tournament.id, Tournament.shortName, Tournament.year, Team.name, Team.id, Squad.id, Person.id, Person.name, Person.dobm Match.id, Match.stage, Match.date\n",
    "\n",
    "\"\"\""
   ]
  },
  {
   "cell_type": "markdown",
   "id": "89799c45-dd3b-4bfa-8ad2-4aa6fec39ee9",
   "metadata": {},
   "source": [
    "### LLAMA"
   ]
  },
  {
   "cell_type": "code",
   "execution_count": null,
   "id": "60a4c222-46a5-4ae0-835d-12e500c085f6",
   "metadata": {},
   "outputs": [],
   "source": [
    "time_start_fs_llama = time.time()\n",
    "rules_fs_llama = generator(encoded_data, few_shot_prompt, \"llama3-70b-8192\", 8000, 500)\n",
    "time_end_fs_llama = time.time()\n",
    "execution_time = time_end_fs_llama - time_start_fs_llama\n",
    "print(f\"Execution time: {execution_time:.2f}\")"
   ]
  },
  {
   "cell_type": "code",
   "execution_count": null,
   "id": "8819a3ee-aac3-4e30-8956-0158e6ce8e63",
   "metadata": {},
   "outputs": [],
   "source": [
    "print(rules_fs_llama)"
   ]
  },
  {
   "cell_type": "markdown",
   "id": "188d78d4-bf61-44e8-a29b-ac7851103672",
   "metadata": {},
   "source": [
    "### Mixtral"
   ]
  },
  {
   "cell_type": "code",
   "execution_count": null,
   "id": "51e907f0-b482-4eba-b6aa-206e98c13eda",
   "metadata": {},
   "outputs": [],
   "source": [
    "time_start_fs_mt = time.time()\n",
    "rules_fs_mixtral = generator(encoded_data, few_shot_prompt, \"mixtral-8x7b-32768\", 8000, 0)\n",
    "time_end_fs_mt = time.time()\n",
    "execution_time = time_end_fs_mt - time_start_fs_mt\n",
    "print(f\"Execution time: {execution_time}\")"
   ]
  },
  {
   "cell_type": "code",
   "execution_count": null,
   "id": "804ab3b1-d349-4ba3-84a4-9d254448aae2",
   "metadata": {},
   "outputs": [],
   "source": [
    "print(rules_fs_mixtral)"
   ]
  }
 ],
 "metadata": {
  "kernelspec": {
   "display_name": "Python 3 (ipykernel)",
   "language": "python",
   "name": "python3"
  },
  "language_info": {
   "codemirror_mode": {
    "name": "ipython",
    "version": 3
   },
   "file_extension": ".py",
   "mimetype": "text/x-python",
   "name": "python",
   "nbconvert_exporter": "python",
   "pygments_lexer": "ipython3",
   "version": "3.10.5"
  }
 },
 "nbformat": 4,
 "nbformat_minor": 5
}
