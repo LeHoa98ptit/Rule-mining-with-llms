{
 "cells": [
  {
   "cell_type": "markdown",
   "id": "497c039e-d33e-4539-8344-7a735988b7f8",
   "metadata": {},
   "source": [
    "## Import required libraries"
   ]
  },
  {
   "cell_type": "code",
   "execution_count": null,
   "id": "1142ecc2-e1bc-4980-9cba-33f680af9c37",
   "metadata": {},
   "outputs": [],
   "source": [
    "import json\n",
    "import networkx as nx\n",
    "import openai\n",
    "from groq import Groq\n",
    "from neo4j import GraphDatabase\n",
    "import json\n",
    "import json\n",
    "import networkx as nx\n",
    "import time"
   ]
  },
  {
   "cell_type": "markdown",
   "id": "f9bffafd-48d9-46d9-9d47-0ffc9a83b727",
   "metadata": {},
   "source": [
    "## Connection Neo4j"
   ]
  },
  {
   "cell_type": "code",
   "execution_count": null,
   "id": "8b815cc7-28e2-4daa-bdbe-f9d81b24ffd4",
   "metadata": {},
   "outputs": [],
   "source": [
    "# Neo4j connection details\n",
    "uri = \"bolt://localhost:7687\"  \n",
    "user = \"neo4j\"                 \n",
    "password = \"123456789\"          \n",
    "\n",
    "# Initialize the Neo4j driver\n",
    "driver = GraphDatabase.driver(uri, auth=(user, password))\n",
    "\n",
    "# Function to run a query and return the results\n",
    "def run_query(query):\n",
    "    with driver.session() as session:\n",
    "        result = session.run(query)\n",
    "        return [record.data() for record in result]"
   ]
  },
  {
   "cell_type": "markdown",
   "id": "d8cd4648-575f-4d43-8633-72ba14c323ee",
   "metadata": {},
   "source": [
    "## Get data"
   ]
  },
  {
   "cell_type": "code",
   "execution_count": null,
   "id": "30a3790d-bbe5-4f9b-b814-350b5b16b85f",
   "metadata": {},
   "outputs": [],
   "source": [
    "# Get all nodes\n",
    "def get_all_nodes(tx):\n",
    "    query = \"\"\"\n",
    "    MATCH (n)\n",
    "    RETURN labels(n) AS labels, n\n",
    "    \"\"\"\n",
    "    result = tx.run(query)\n",
    "    nodes = []\n",
    "    for record in result:\n",
    "        labels = record[\"labels\"]\n",
    "        node = record[\"n\"]\n",
    "        nodes.append({\n",
    "            \"labels\": labels,\n",
    "            \"properties\": dict(node)\n",
    "        })\n",
    "    return nodes\n",
    "\n",
    "# Perform query\n",
    "with driver.session() as session:\n",
    "    all_nodes = session.read_transaction(get_all_nodes)\n",
    "\n",
    "# Close connection driver\n",
    "driver.close()\n",
    "\n",
    "# Result\n",
    "for node in all_nodes:\n",
    "    print(f\"Labels: {node['labels']}, Properties: {node['properties']}\")"
   ]
  },
  {
   "cell_type": "markdown",
   "id": "dfa37cd9-5f5e-4b79-ae52-431356fd0c3b",
   "metadata": {},
   "source": [
    "## Graph Encoding"
   ]
  },
  {
   "cell_type": "code",
   "execution_count": null,
   "id": "21532449-f73f-49a5-ab3f-ec4f4b23b858",
   "metadata": {},
   "outputs": [],
   "source": [
    "def encode_data(data):\n",
    "    encoded_str = \"\"\n",
    "    for idx, node in enumerate(data):\n",
    "        labels_str = ', '.join(node['labels'])\n",
    "        properties_str = ', '.join([f\"{key}: {value}\" for key, value in node['properties'].items()])\n",
    "        encoded_str += f\"Node {idx} has labels [{labels_str}] and ({properties_str}), \"\n",
    "    return encoded_str[:-2]  # Loại bỏ dấu phẩy cuối cùng\n",
    "\n",
    "# Encode data and print results\n",
    "encoded_all_data = encode_data(all_nodes)\n",
    "print(encoded_all_data)"
   ]
  },
  {
   "cell_type": "code",
   "execution_count": null,
   "id": "9c9e92a3-34e8-4525-9bdb-5a9b9ed8bd6f",
   "metadata": {},
   "outputs": [],
   "source": [
    "len(encoded_all_data)"
   ]
  },
  {
   "cell_type": "markdown",
   "id": "0531364f-bf23-46e3-b093-3b7a1b6d14c9",
   "metadata": {},
   "source": [
    "### Get relationships and properties¶"
   ]
  },
  {
   "cell_type": "code",
   "execution_count": null,
   "id": "950b8235-ff35-45f4-8903-c950ccb68481",
   "metadata": {},
   "outputs": [],
   "source": [
    "def get_nodes_and_relationships(tx):\n",
    "    query = (\n",
    "        \"MATCH (a)-[r]->(b) \"\n",
    "        \"RETURN DISTINCT labels(a) AS StartLabels, type(r) AS RelationshipType, labels(b) AS EndLabels, properties(r) AS RelationshipProperties \"\n",
    "        \"ORDER BY StartLabels, RelationshipType, EndLabels\"\n",
    "    )\n",
    "    result = tx.run(query)\n",
    "    nodes_and_relationships = []\n",
    "    for record in result:\n",
    "        nodes_and_relationships.append({\n",
    "            \"StartLabels\": record[\"StartLabels\"],\n",
    "            \"RelationshipType\": record[\"RelationshipType\"],\n",
    "            \"EndLabels\": record[\"EndLabels\"],\n",
    "            \"RelationshipProperties\": dict(record[\"RelationshipProperties\"])  # Convert properties to dictionary\n",
    "        })\n",
    "    return nodes_and_relationships\n",
    "\n",
    "\n",
    "with driver.session() as session:\n",
    "    nodes_and_relationships = session.read_transaction(get_nodes_and_relationships)\n",
    "\n",
    "# Close connection to driver\n",
    "driver.close()"
   ]
  },
  {
   "cell_type": "code",
   "execution_count": null,
   "id": "bc6a9166-909c-46c2-8e6f-72e8fae3a8fb",
   "metadata": {},
   "outputs": [],
   "source": [
    "nodes_and_relationships"
   ]
  },
  {
   "cell_type": "markdown",
   "id": "7697b9b9-2300-48f1-8438-52a05be0a69f",
   "metadata": {},
   "source": [
    "### Edges encoding"
   ]
  },
  {
   "cell_type": "code",
   "execution_count": null,
   "id": "60f045c7-1c5f-4798-95dc-a42d8d28823c",
   "metadata": {},
   "outputs": [],
   "source": [
    "def encode_relationship(relationship):\n",
    "    start_labels = ', '.join(relationship['StartLabels'])\n",
    "    end_labels = ', '.join(relationship['EndLabels'])\n",
    "    relationship_type = relationship['RelationshipType']\n",
    "    properties = relationship['RelationshipProperties']\n",
    "\n",
    "    properties_str = ', '.join([f\"{key}: {value}\" for key, value in properties.items()]) if properties else \"No properties\"\n",
    "\n",
    "    return f\"Node [{start_labels}] connect to node  [{end_labels}] with Relationship Type {relationship_type} and Properties {{{properties_str}}}\"\n",
    "\n",
    "encoded_relationship =  \"\"\n",
    "# Print\n",
    "for relationship in nodes_and_relationships:\n",
    "    encoded_relationship += encode_relationship(relationship) + \". \"\n",
    "\n",
    "encoded_relationship"
   ]
  },
  {
   "cell_type": "code",
   "execution_count": null,
   "id": "41c4f4e4-8b36-455e-833c-b46a5dcacc2f",
   "metadata": {},
   "outputs": [],
   "source": [
    "encoded_data = encoded_all_data[0:100000] +  \"\\nIn this graph: \\n\" + encoded_relationship \n",
    "encoded_data"
   ]
  },
  {
   "cell_type": "markdown",
   "id": "07c5e355-c30f-4ce9-ad41-9e44955bc47c",
   "metadata": {},
   "source": [
    "## Rules generation"
   ]
  },
  {
   "cell_type": "code",
   "execution_count": null,
   "id": "eace6765-fca8-4e2d-b0eb-4d7709ef754b",
   "metadata": {},
   "outputs": [],
   "source": [
    "client = Groq(\n",
    "    api_key=\"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\",\n",
    ")"
   ]
  },
  {
   "cell_type": "code",
   "execution_count": null,
   "id": "ec23dc0b-210f-4156-9015-84fd8445a4d0",
   "metadata": {},
   "outputs": [],
   "source": [
    "def generator(encoded_graph, query, model, size):\n",
    "    # Function to divide the text into smaller chunks\n",
    "    def chunk_text(text, max_length):\n",
    "        words = text.split()\n",
    "        chunks = []\n",
    "        current_chunk = []\n",
    "        current_length = 0\n",
    "\n",
    "        for word in words:\n",
    "            if current_length + len(word) + 1 > max_length:\n",
    "                chunks.append(' '.join(current_chunk))\n",
    "                current_chunk = []\n",
    "                current_length = 0\n",
    "            current_chunk.append(word)\n",
    "            current_length += len(word) + 1\n",
    "\n",
    "        if current_chunk:\n",
    "            chunks.append(' '.join(current_chunk))\n",
    "\n",
    "        return chunks\n",
    "\n",
    "    # Function to process each chunk\n",
    "    def process_chunk(chunk):\n",
    "        chat_completion = client.chat.completions.create(\n",
    "            messages=[\n",
    "                {\n",
    "                    \"role\": \"user\",\n",
    "                    \"content\": chunk,\n",
    "                }\n",
    "            ],\n",
    "            model= model,\n",
    "        )\n",
    "\n",
    "        return chat_completion.choices[0].message.content\n",
    "\n",
    "    # Split encoded_graph into chunks\n",
    "    max_chunk_length = size  # Adjust this length based on your needs and model limits\n",
    "    graph_chunks = chunk_text(encoded_graph, max_chunk_length)\n",
    "\n",
    "    # Process each chunk of encoded_graph\n",
    "    processed_graph_parts = [process_chunk(chunk) for chunk in graph_chunks]\n",
    "\n",
    "    # Combine processed parts back into a single string\n",
    "    processed_graph = ' '.join(processed_graph_parts)\n",
    "\n",
    "    # Append query to the processed graph and process the final combined context\n",
    "    context = processed_graph + \"\\n\" + query\n",
    "    final_result = process_chunk(context)\n",
    "\n",
    "    return final_result"
   ]
  },
  {
   "cell_type": "markdown",
   "id": "c5678c88-a95e-4af7-9785-61e4ad918431",
   "metadata": {},
   "source": [
    "## Zero - shot prompt "
   ]
  },
  {
   "cell_type": "code",
   "execution_count": 1,
   "id": "c097a384-1b51-4202-9dff-422ccce93d24",
   "metadata": {},
   "outputs": [],
   "source": [
    "zero_prompt = \"\"\"\n",
    "Based on the following graph properties, generate detailed consistency rules (graph functional dependency and graph entity dependency).\n",
    "Consider the structure, node information and relationships in the graph, and provide a set of rules that can be applied to maintain consistent \n",
    "and accurate data.\n",
    "\n",
    "For each consistency rule you identify, provide a clear description of the rule and generated the corresponding Cypher query to check the \n",
    "number of nodes or relationships that satisfy the rule.\n",
    "Your query should return the count of entities (nodes or relationships) that match the rule described. \n",
    "Provide the query in the format of valid Cypher syntax, simple and ready for execution in a Neo4j databaseBelow is the input data:\n",
    "Graph Information:\n",
    "\n",
    "- Nodes: [\"Group\", \"HighValue\"], [\"Group\"], [\"Domain\", \"HighValue\"], [\"GPO\"], [\"OU\"], [\"Computer\"], [\"User\"]. \n",
    "- Relationships: GENERIC_ALL\", \"WRITE_OWNER\", \"WRITE_DACL\", DC_SYNC\", \"GET_CHANGES\", \"GET_CHANGES_ALL\", \"ADMIN_TO\", \"OWNS\", \"GP_LINK\", \"CONTAINS\", \"HAS_SESSION\", \"MEMBER_OF\", \"EXECUTE_DCOM\", \"CAN_RDP\", \"ALLOWED_TO_DELEGATE\", \"GENERIC_WRITE\". \n",
    "- Properties: [\"Group\", \"HighValue\"].name, [\"Group\", \"HighValue\"].domain, [\"Group\", \"HighValue\"].objectid,  [\"Group\", \"HighValue\"].neo4jImportId, [\"Group\", \"HighValue\"].highvalue, [\"Group\"].name, [\"Group\"].domain, [\"Group\"].objectid, [\"Group\"].neo4jImportId,  [\"Domain\", \"HighValue\"].name, [\"Domain\", \"HighValue\"].domain,  [\"Domain\", \"HighValue\"],neo4jImportId,  [\"Domain\", \"HighValue\"].highvalue,  [\"GPO\"].name,  [\"GPO\"].neo4jImportId,  [\"GPO\"].domain,  [\"GPO\"].objectid,  [\"OU\"].blocksInheritance,  [\"OU\"].name,  [\"OU\"].neo4jImportId, [\"OU\"].domain,  [\"OU\"].objectid,  [\"Computer\"].operatingsystem, [\"Computer\"].name,  [\"Computer\"].domain, [\"Computer\"].objectid, [\"Computer\"].neo4jImportId, [\"Computer\"].owned,  [\"Computer\"].enabled, [\"User\"].displayname,  [\"User\"].owned,  [\"User\"].enabled,  [\"User\"].pwdlastset, [\"User\"].neo4jImportId, [\"User\"].domain, [\"User\"].lastlogon, [\"User\"].name, [\"User\"].objectid,  [\"User\"].hasspn,  [\"Group\"].enabled,  [\"Group\"].pwdlastset, [\"Group\"]displayname, [\"Group\"].owned, [\"Group\"].lastlogon, GENERIC_ALL.isacl, WRITE_OWNER.sacl,  WRITE_DACL.isacl, DC_SYNC.isacl,  GET_CHANGES.isacl,  GET_CHANGES_ALL.isacl, OWNS.isacl,  CONTAINS.isacl,  GP_LINK.enforced,  GP_LINK.isacl, \n",
    " GENERIC_WRITE.isacl.\n",
    "\"\"\""
   ]
  },
  {
   "cell_type": "markdown",
   "id": "3d7a4c90-a3aa-478d-a4ed-08844b3f69a9",
   "metadata": {},
   "source": [
    "### LLAMA"
   ]
  },
  {
   "cell_type": "code",
   "execution_count": null,
   "id": "e4613322-3d02-4cc3-8467-b7b2d66925ae",
   "metadata": {},
   "outputs": [],
   "source": [
    "import time\n",
    "time_start = time.time()\n",
    "rules_llama = generator(encoded_data, zero_prompt, \"llama3-70b-8192\", 8000, 500)\n",
    "time_end = time.time()\n",
    "execution_time = time_end-time_start\n",
    "print(f\"Execution time: {execution_time}\")"
   ]
  },
  {
   "cell_type": "code",
   "execution_count": null,
   "id": "db081e87-ddd6-4a8d-877c-cfa3529c2fad",
   "metadata": {},
   "outputs": [],
   "source": [
    "print(rules_llama)"
   ]
  },
  {
   "cell_type": "markdown",
   "id": "44319a0e-913e-4d5c-9ecd-9d92f0327b6e",
   "metadata": {},
   "source": [
    "### Mixtral"
   ]
  },
  {
   "cell_type": "code",
   "execution_count": null,
   "id": "f3ab6745-ac88-42c8-b61a-7189e4c5c3b2",
   "metadata": {},
   "outputs": [],
   "source": [
    "time_start_z_mixtral = time.time()\n",
    "rules_mixtral = generator(encoded_data, zero_prompt, \"mixtral-8x7b-32768\", 8000, 500)\n",
    "time_end_z_mixtral = time.time()\n",
    "execution_time_z_mixtral = time_end_z_mixtral -time_start_z_mixtral\n",
    "print(f\"Execution time: {execution_time_z_mixtral}\")"
   ]
  },
  {
   "cell_type": "code",
   "execution_count": null,
   "id": "3eada152-e58e-4d11-9dc5-b35a2c0bba9b",
   "metadata": {},
   "outputs": [],
   "source": [
    "print(rules_mixtral)"
   ]
  },
  {
   "cell_type": "markdown",
   "id": "68b88167-756a-48af-8c04-50722d58b8e1",
   "metadata": {},
   "source": [
    "## Few - shot prompt"
   ]
  },
  {
   "cell_type": "code",
   "execution_count": 2,
   "id": "771d3e6d-a138-4bb2-a600-d300eff6e2da",
   "metadata": {},
   "outputs": [],
   "source": [
    "few_shot_prompt = \"\"\"\n",
    "    Examples of consistency Rules:\n",
    "    \n",
    "    1. Unique `neo4jImportId` per node: Each node should have a unique `neo4jImportId` property\n",
    "    2. Unique `objectid` per node: Each node should have a unique `objectid` property.\n",
    "    3. Only allowed node labels are `User`, `Group`, `Domain`, `OU`, `GPO`, and `Computer`\n",
    "\n",
    "    Task: Generate new rules to ensure consistency and accuracy in the graph database, considering all node types and relationships. \n",
    "    For each consistency rule you identify, provide a clear description of the rule and generated the corresponding Cypher query to check the \n",
    "    number of nodes or relationships that satisfy the rule.\n",
    "    Your query should return the count of entities (nodes or relationships) that match the rule described. \n",
    "    Provide the query in the format of valid Cypher syntax, simple and ready for execution in a Neo4j databaseBelow is the input data:\n",
    "    Graph Information:\n",
    "    \n",
    "    - Nodes: [\"Group\", \"HighValue\"], [\"Group\"], [\"Domain\", \"HighValue\"], [\"GPO\"], [\"OU\"], [\"Computer\"], [\"User\"]. \n",
    "    - Relationships: GENERIC_ALL\", \"WRITE_OWNER\", \"WRITE_DACL\", DC_SYNC\", \"GET_CHANGES\", \"GET_CHANGES_ALL\", \"ADMIN_TO\", \"OWNS\", \"GP_LINK\", \"CONTAINS\", \"HAS_SESSION\", \"MEMBER_OF\", \"EXECUTE_DCOM\", \"CAN_RDP\", \"ALLOWED_TO_DELEGATE\", \"GENERIC_WRITE\". \n",
    "    - Properties: [\"Group\", \"HighValue\"].name, [\"Group\", \"HighValue\"].domain, [\"Group\", \"HighValue\"].objectid,  [\"Group\", \"HighValue\"].neo4jImportId, [\"Group\", \"HighValue\"].highvalue, [\"Group\"].name, [\"Group\"].domain, [\"Group\"].objectid, [\"Group\"].neo4jImportId,  [\"Domain\", \"HighValue\"].name, [\"Domain\", \"HighValue\"].domain,  [\"Domain\", \"HighValue\"],neo4jImportId,  [\"Domain\", \"HighValue\"].highvalue,  [\"GPO\"].name,  [\"GPO\"].neo4jImportId,  [\"GPO\"].domain,  [\"GPO\"].objectid,  [\"OU\"].blocksInheritance,  [\"OU\"].name,  [\"OU\"].neo4jImportId, [\"OU\"].domain,  [\"OU\"].objectid,  [\"Computer\"].operatingsystem, [\"Computer\"].name,  [\"Computer\"].domain, [\"Computer\"].objectid, [\"Computer\"].neo4jImportId, [\"Computer\"].owned,  [\"Computer\"].enabled, [\"User\"].displayname,  [\"User\"].owned,  [\"User\"].enabled,  [\"User\"].pwdlastset, [\"User\"].neo4jImportId, [\"User\"].domain, [\"User\"].lastlogon, [\"User\"].name, [\"User\"].objectid,  [\"User\"].hasspn,  [\"Group\"].enabled,  [\"Group\"].pwdlastset, [\"Group\"]displayname, [\"Group\"].owned, [\"Group\"].lastlogon, GENERIC_ALL.isacl, WRITE_OWNER.sacl,  WRITE_DACL.isacl, DC_SYNC.isacl,  GET_CHANGES.isacl,  GET_CHANGES_ALL.isacl, OWNS.isacl,  CONTAINS.isacl,  GP_LINK.enforced,  GP_LINK.isacl, \n",
    "     GENERIC_WRITE.isacl.\n",
    "\"\"\""
   ]
  },
  {
   "cell_type": "markdown",
   "id": "d843742f-c707-4aa9-aa88-27f681a59d38",
   "metadata": {},
   "source": [
    "### LLAMA"
   ]
  },
  {
   "cell_type": "code",
   "execution_count": null,
   "id": "1729394e-abc5-4878-8db8-e8c3cbc333c3",
   "metadata": {},
   "outputs": [],
   "source": [
    "time_start_fs_llama = time.time()\n",
    "rules_fs_llama = generator(encoded_data, few_shot_prompt, \"llama3-70b-8192\", 8000, 500)\n",
    "time_end_fs_llama = time.time()\n",
    "execution_time_fs_llama = time_end_fs_llama - time_start_fs_llama\n",
    "print(f\"Execution time: {execution_time_fs_llama}\")"
   ]
  },
  {
   "cell_type": "code",
   "execution_count": null,
   "id": "983f8e38-1146-4e0c-9ee1-29695e88fc2d",
   "metadata": {},
   "outputs": [],
   "source": [
    "print(rules_fs_llama)"
   ]
  },
  {
   "cell_type": "markdown",
   "id": "e71cd09b-cde6-44b5-b130-12fad91cbdaa",
   "metadata": {},
   "source": [
    "### Mixtral"
   ]
  },
  {
   "cell_type": "code",
   "execution_count": null,
   "id": "56b0f303-c659-4b2a-9bab-80bd55fd6510",
   "metadata": {},
   "outputs": [],
   "source": [
    "time_start_fs_mixtral = time.time()\n",
    "rules_fs_mixtral = generator(encoded_data, few_shot_prompt, \"mixtral-8x7b-32768\", 8000, 500)\n",
    "time_end_fs_mixtral = time.time()\n",
    "execution_time_fs_mixtral = time_end_fs_mixtral - time_start_fs_mixtral\n",
    "print(f\"Execution time: {execution_time_fs_mixtral}\")"
   ]
  }
 ],
 "metadata": {
  "kernelspec": {
   "display_name": "Python 3 (ipykernel)",
   "language": "python",
   "name": "python3"
  },
  "language_info": {
   "codemirror_mode": {
    "name": "ipython",
    "version": 3
   },
   "file_extension": ".py",
   "mimetype": "text/x-python",
   "name": "python",
   "nbconvert_exporter": "python",
   "pygments_lexer": "ipython3",
   "version": "3.10.5"
  }
 },
 "nbformat": 4,
 "nbformat_minor": 5
}
